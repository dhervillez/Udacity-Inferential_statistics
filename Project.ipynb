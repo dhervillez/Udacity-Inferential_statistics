{
 "cells": [
  {
   "cell_type": "code",
   "execution_count": 163,
   "metadata": {},
   "outputs": [],
   "source": [
    "from IPython.display import Image\n",
    "from IPython.core.display import HTML\n",
    "import scipy.stats as st\n",
    "import statsmodels.stats.api as sms\n",
    "import pandas as pd\n",
    "import numpy as np\n",
    "import matplotlib.pyplot as plt\n",
    "% matplotlib inline"
   ]
  },
  {
   "cell_type": "markdown",
   "metadata": {},
   "source": [
    "# Test a perceptual phenomenon: the Stroop effect\n",
    "https://faculty.washington.edu/chudler/words.html#seffect"
   ]
  },
  {
   "cell_type": "code",
   "execution_count": 240,
   "metadata": {},
   "outputs": [
    {
     "data": {
      "text/html": [
       "<img src=\"https://faculty.washington.edu/chudler/colors2.gif\"/>"
      ],
      "text/plain": [
       "<IPython.core.display.Image object>"
      ]
     },
     "execution_count": 240,
     "metadata": {},
     "output_type": "execute_result"
    }
   ],
   "source": [
    "Image(url='https://faculty.washington.edu/chudler/colors2.gif')"
   ]
  },
  {
   "cell_type": "markdown",
   "metadata": {},
   "source": [
    "## Load the dataset with test result"
   ]
  },
  {
   "cell_type": "code",
   "execution_count": 31,
   "metadata": {},
   "outputs": [
    {
     "data": {
      "text/plain": [
       "(24, 2)"
      ]
     },
     "execution_count": 31,
     "metadata": {},
     "output_type": "execute_result"
    }
   ],
   "source": [
    "df=pd.read_csv('stroopdata.csv')\n",
    "df.shape"
   ]
  },
  {
   "cell_type": "markdown",
   "metadata": {},
   "source": [
    "Dataset is made of 24 rows and 2 columns: <br>\n",
    "    - 24 people performed the stroop effect test\n",
    "    - results of the test (time to read the list of word) are given for the congruent and incongruent conditions"
   ]
  },
  {
   "cell_type": "markdown",
   "metadata": {},
   "source": [
    "## Descriptive statistics\n",
    "    - histogram plot of both tests\n",
    "    - min, max, mean, median, std result of the tests"
   ]
  },
  {
   "cell_type": "code",
   "execution_count": 110,
   "metadata": {},
   "outputs": [],
   "source": [
    "congruent_sample_size=df.Congruent.count()\n",
    "congruent_min=df.Congruent.min()\n",
    "congruent_max=df.Congruent.max()\n",
    "congruent_mean=df.Congruent.mean()\n",
    "congruent_median=df.Congruent.median()\n",
    "congruent_std=df.Congruent.std()\n",
    "\n",
    "incongruent_sample_size=df.Incongruent.count()\n",
    "incongruent_min=df.Incongruent.min()\n",
    "incongruent_max=df.Incongruent.max()\n",
    "incongruent_mean=df.Incongruent.mean()\n",
    "incongruent_median=df.Incongruent.median()\n",
    "incongruent_std=df.Incongruent.std()"
   ]
  },
  {
   "cell_type": "code",
   "execution_count": 236,
   "metadata": {},
   "outputs": [
    {
     "data": {
      "text/plain": [
       "<matplotlib.table.Table at 0x1c1a1ebfd0>"
      ]
     },
     "execution_count": 236,
     "metadata": {},
     "output_type": "execute_result"
    },
    {
     "data": {
      "image/png": "[encoded data removed]",
      "text/plain": [
       "<Figure size 432x288 with 1 Axes>"
      ]
     },
     "metadata": {},
     "output_type": "display_data"
    }
   ],
   "source": [
    "ax=df.plot(kind='hist',y=['Congruent', 'Incongruent'],alpha=0.5,xlim=(0,40),bins=15,grid=True)\n",
    "ax.set_xlabel('Time (sec)')\n",
    "colLabels=['Congruent','Incongruent']\n",
    "rowLabels=['Number of samples','Min (sec)','Max (sec)','Mean (sec)','Median (sec)','Sample std (sec)']\n",
    "cellText =np.array([[round(congruent_sample_size,0),round(incongruent_sample_size,0)],\n",
    "                    [round(congruent_min,2),round(incongruent_min,2)],\n",
    "                    [round(congruent_max,2),round(incongruent_max,2)],\n",
    "                    [round(congruent_mean,2),round(incongruent_mean,2)],\n",
    "                    [round(congruent_median,2),round(incongruent_median,2)],\n",
    "                    [round(congruent_std,2),round(incongruent_std,2)],\n",
    "                   ])\n",
    "plt.table(cellText=cellText,rowLabels=rowLabels,colLabels=colLabels,\n",
    "         bbox=[0, -0.7, 1, 0.5])"
   ]
  },
  {
   "cell_type": "markdown",
   "metadata": {},
   "source": [
    "The descriptive statistics analysis shows that <br>\n",
    "    - in average it takes 8 more secondes to carry out the incongruent test compared to the congruent test\n",
    "    - sample standard deviation for both tests is around 4 secondes\n",
    "An inferential statistical analysis is required to conclude whether results of both tests are significantly different."
   ]
  },
  {
   "cell_type": "markdown",
   "metadata": {},
   "source": [
    "## Statistical test\n",
    "A two independent sample t-test will be performed to figure out whether test condition has a significant impact on the time to carry out the test. It is choosen to perform a two tailed t-test.<br>\n",
    "The null hypothesis is that test condition (congruent or incongruent) has no impact on the test results (time to complete the test) <br>\n",
    "$$H_{0} : \\mu_{congruent}- \\mu_{incongruent} = 0$$\n",
    "<br>\n",
    "The alternative hypothesis is that the test condition has an impact on the test results <br>\n",
    "$$H_{A} : \\mu_{congruent}- \\mu_{incongruent} \\neq 0$$\n",
    "The significance level is set to 5% <br>\n",
    "$$\\alpha=.05$$"
   ]
  },
  {
   "cell_type": "code",
   "execution_count": 239,
   "metadata": {},
   "outputs": [
    {
     "name": "stdout",
     "output_type": "stream",
     "text": [
      "\n",
      "alpha: 0.05\n",
      "degree of freedom: 46\n",
      "t_statistic: -6.532\n",
      "t_critical: -2.013\n",
      "hypothesis testing result: reject H0\n",
      "r2: 48%\n",
      "margin of error: 2.45\n",
      "congruent mean: 14.05\n",
      "incongruent mean: 22.02\n",
      "confidence interval for congruent mean: (11.60,16.51)\n",
      "\n"
     ]
    }
   ],
   "source": [
    "alpha=0.05\n",
    "df['Congruent_demeaned_squared']=(df['Congruent']-congruent_mean)**2\n",
    "SS_congruent=df['Congruent_demeaned_squared'].sum()\n",
    "df['Incongruent_demeaned_squared']=(df['Incongruent']-incongruent_mean)**2\n",
    "SS_incongruent=df['Incongruent_demeaned_squared'].sum()\n",
    "pooled_variance=(SS_congruent+SS_incongruent)/(congruent_sample_size+incongruent_sample_size-2)\n",
    "SE=(pooled_variance*(1./congruent_sample_size+1./incongruent_sample_size))**0.5\n",
    "t_statistic=(congruent_mean-incongruent_mean)/SE\n",
    "t_critical=(st.t.ppf(alpha/2 ,congruent_sample_size+incongruent_sample_size-2))\n",
    "r2=t_statistic**2/(t_statistic**2+congruent_sample_size+incongruent_sample_size-2)\n",
    "margin_of_error=abs(st.t.ppf(alpha/2 ,congruent_sample_size+incongruent_sample_size-2)*SE)\n",
    "\n",
    "if abs(t_statistic)<abs(t_critical):\n",
    "    test_result='fail to reject H0'\n",
    "else:\n",
    "    test_result='reject H0'\n",
    "\n",
    "print '''\n",
    "alpha: {:.2f}\n",
    "degree of freedom: {:d}\n",
    "t_statistic: {:.3f}\n",
    "t_critical: {:.3f}\n",
    "hypothesis testing result: {}\n",
    "r2: {:.0%}\n",
    "margin of error: {:.2f}\n",
    "congruent mean: {:.2f}\n",
    "incongruent mean: {:.2f}\n",
    "confidence interval for congruent mean: ({:.2f},{:.2f})\n",
    "'''.format(alpha,\n",
    "    congruent_sample_size+incongruent_sample_size-2,\n",
    "           t_statistic,\n",
    "           t_critical,\n",
    "           test_result,\n",
    "           r2,\n",
    "           margin_of_error,\n",
    "           congruent_mean,\n",
    "           incongruent_mean,\n",
    "           congruent_mean-margin_of_error,\n",
    "           congruent_mean+margin_of_error,)"
   ]
  },
  {
   "cell_type": "markdown",
   "metadata": {},
   "source": [
    "### Same statistical test with scipy built in function\n",
    "https://docs.scipy.org/doc/scipy/reference/generated/scipy.stats.ttest_ind.html"
   ]
  },
  {
   "cell_type": "code",
   "execution_count": 215,
   "metadata": {},
   "outputs": [
    {
     "name": "stdout",
     "output_type": "stream",
     "text": [
      "\n",
      "t_statistic: -6.532\n",
      "alpha: 0.050\n",
      "p_value: 0.000\n",
      "hypothesis testing result: reject H0\n",
      "\n"
     ]
    }
   ],
   "source": [
    "t_statistic,p_value=st.ttest_ind(df['Congruent'],df['Incongruent'], axis=0, equal_var=False, nan_policy='raise')\n",
    "\n",
    "if p_value>alpha:\n",
    "    test_result='fail to reject H0'\n",
    "else:\n",
    "    test_result='reject H0'\n",
    "\n",
    "print '''\n",
    "t_statistic: {:.3f}\n",
    "alpha: {:.3f}\n",
    "p_value: {:.3f}\n",
    "hypothesis testing result: {}\n",
    "'''.format(t_statistic,\n",
    "           alpha,\n",
    "           p_value,\n",
    "           test_result)"
   ]
  },
  {
   "cell_type": "markdown",
   "metadata": {},
   "source": [
    "### Same statistical test with statsmodel built in function\n",
    "https://www.statsmodels.org/dev/generated/statsmodels.stats.weightstats.ttest_ind.html"
   ]
  },
  {
   "cell_type": "code",
   "execution_count": 217,
   "metadata": {},
   "outputs": [
    {
     "name": "stdout",
     "output_type": "stream",
     "text": [
      "\n",
      "t_statistic: -6.532\n",
      "alpha: 0.050\n",
      "p_value: 0.000\n",
      "hypothesis testing result: reject H0\n",
      "confidence interval for the difference in means: (-10.42,-5.50)\n",
      "\n"
     ]
    }
   ],
   "source": [
    "t_critical, p_value, dof=sm_weightstats.ttest_ind(df['Congruent'], df['Incongruent'],\n",
    "                                                  alternative='two-sided', usevar='unequal', value=0)\n",
    "\n",
    "cm = sms.CompareMeans(sms.DescrStatsW(df['Congruent']), sms.DescrStatsW(df['Incongruent']))\n",
    "t_critical, p_value, dof = cm.ttest_ind(alternative='two-sided',usevar='unequal', value=0)\n",
    "tconfint_diff = cm.tconfint_diff(alpha=0.05,alternative='two-sided',usevar='unequal')\n",
    "\n",
    "if p_value>alpha:\n",
    "    test_result='fail to reject H0'\n",
    "else:\n",
    "    test_result='reject H0'\n",
    "\n",
    "print '''\n",
    "t_statistic: {:.3f}\n",
    "alpha: {:.3f}\n",
    "p_value: {:.3f}\n",
    "hypothesis testing result: {}\n",
    "confidence interval for the difference in means: ({:.2f},{:.2f})\n",
    "'''.format(t_statistic,\n",
    "           alpha,\n",
    "           p_value,\n",
    "           test_result,\n",
    "           tconfint_diff[0],\n",
    "           tconfint_diff[1])"
   ]
  },
  {
   "cell_type": "code",
   "execution_count": 223,
   "metadata": {},
   "outputs": [
    {
     "data": {
      "text/html": [
       "<table class=\"simpletable\">\n",
       "<caption>Test for equality of means</caption>\n",
       "<tr>\n",
       "      <td></td>         <th>coef</th>     <th>std err</th>      <th>t</th>      <th>P>|t|</th>  <th>[0.025</th>    <th>0.975]</th>  \n",
       "</tr>\n",
       "<tr>\n",
       "  <th>subset #1</th> <td>   -7.9648</td> <td>    1.219</td> <td>   -6.532</td> <td> 0.000</td> <td>  -10.425</td> <td>   -5.505</td>\n",
       "</tr>\n",
       "</table>"
      ],
      "text/plain": [
       "<class 'statsmodels.iolib.table.SimpleTable'>"
      ]
     },
     "execution_count": 223,
     "metadata": {},
     "output_type": "execute_result"
    }
   ],
   "source": [
    "cm.summary(use_t=True, alpha=0.05, usevar='unequal', value=0)"
   ]
  },
  {
   "cell_type": "markdown",
   "metadata": {},
   "source": [
    "Result of the two independent sample t-test is <br>\n",
    "$$t(46)=6.532, \\text{ } p<.05, \\text{ two tailed}$$\n",
    "We reject the null hypothesis and conclude there is a significant difference between the two sample results.<br>\n",
    "The confidence interval at 95% for the congruent test is (11.60 sec to 16.51 sec) and the incongruent test takes a longer time (22.02 sec in average).<br>\n",
    "48% of the difference between the two test results can be explained by the test conditions."
   ]
  },
  {
   "cell_type": "code",
   "execution_count": null,
   "metadata": {},
   "outputs": [],
   "source": []
  }
 ],
 "metadata": {
  "kernelspec": {
   "display_name": "Python [conda env:py2]",
   "language": "python",
   "name": "conda-env-py2-py"
  },
  "language_info": {
   "codemirror_mode": {
    "name": "ipython",
    "version": 2
   },
   "file_extension": ".py",
   "mimetype": "text/x-python",
   "name": "python",
   "nbconvert_exporter": "python",
   "pygments_lexer": "ipython2",
   "version": "2.7.15"
  }
 },
 "nbformat": 4,
 "nbformat_minor": 2
}
